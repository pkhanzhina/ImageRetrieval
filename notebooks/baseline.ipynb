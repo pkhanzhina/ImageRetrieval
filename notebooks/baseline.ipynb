{
 "metadata": {
  "kernelspec": {
   "language": "python",
   "display_name": "Python 3",
   "name": "python3"
  },
  "language_info": {
   "pygments_lexer": "ipython3",
   "nbconvert_exporter": "python",
   "version": "3.6.4",
   "file_extension": ".py",
   "codemirror_mode": {
    "name": "ipython",
    "version": 3
   },
   "name": "python",
   "mimetype": "text/x-python"
  }
 },
 "nbformat_minor": 4,
 "nbformat": 4,
 "cells": [
  {
   "cell_type": "code",
   "source": [
    "# установка дополнительных библиотек\n",
    "!pip install easydict neptune-client\n",
    "!pip install jsonschema==4.4.0\n",
    "!pip install nmslib"
   ],
   "metadata": {
    "_uuid": "8f2839f25d086af736a60e9eeb907d3b93b6e0e5",
    "_cell_guid": "b1076dfc-b9ad-4769-8c92-a6c4dae69d19",
    "scrolled": true,
    "execution": {
     "iopub.status.busy": "2022-10-27T12:15:01.404176Z",
     "iopub.execute_input": "2022-10-27T12:15:01.404577Z",
     "iopub.status.idle": "2022-10-27T12:15:27.952032Z",
     "shell.execute_reply.started": "2022-10-27T12:15:01.404494Z",
     "shell.execute_reply": "2022-10-27T12:15:27.950906Z"
    },
    "trusted": true
   },
   "execution_count": null,
   "outputs": []
  },
  {
   "cell_type": "code",
   "source": [
    "# клонирование проекта с гитхаба\n",
    "!git clone -b resnet50 https://github.com/pkhanzhina/ImagerRetrieval.git"
   ],
   "metadata": {
    "execution": {
     "iopub.status.busy": "2022-10-27T12:15:39.076554Z",
     "iopub.execute_input": "2022-10-27T12:15:39.076978Z",
     "iopub.status.idle": "2022-10-27T12:15:40.927638Z",
     "shell.execute_reply.started": "2022-10-27T12:15:39.076934Z",
     "shell.execute_reply": "2022-10-27T12:15:40.926531Z"
    },
    "trusted": true
   },
   "execution_count": null,
   "outputs": []
  },
  {
   "cell_type": "code",
   "source": [
    "%cd \"ImagerRetrieval/\""
   ],
   "metadata": {
    "execution": {
     "iopub.status.busy": "2022-10-27T12:15:40.930933Z",
     "iopub.execute_input": "2022-10-27T12:15:40.931619Z",
     "iopub.status.idle": "2022-10-27T12:15:40.939658Z",
     "shell.execute_reply.started": "2022-10-27T12:15:40.931575Z",
     "shell.execute_reply": "2022-10-27T12:15:40.938437Z"
    },
    "trusted": true
   },
   "execution_count": null,
   "outputs": []
  },
  {
   "cell_type": "code",
   "source": [
    "from executors.resnet50_trainer import Trainer"
   ],
   "metadata": {
    "execution": {
     "iopub.status.busy": "2022-10-27T12:15:40.941563Z",
     "iopub.execute_input": "2022-10-27T12:15:40.941953Z",
     "iopub.status.idle": "2022-10-27T12:15:43.723034Z",
     "shell.execute_reply.started": "2022-10-27T12:15:40.941918Z",
     "shell.execute_reply": "2022-10-27T12:15:43.722101Z"
    },
    "trusted": true
   },
   "execution_count": null,
   "outputs": []
  },
  {
   "cell_type": "code",
   "source": [
    "# конфиг\n",
    "import os\n",
    "from easydict import EasyDict\n",
    "\n",
    "ROOT_DIR = '/kaggle/working'\n",
    "\n",
    "cfg = EasyDict()\n",
    "\n",
    "cfg.lr = 1e-5\n",
    "cfg.embed_size = 128\n",
    "cfg.alpha = 0.40\n",
    "\n",
    "cfg.max_epoch = 30\n",
    "cfg.device = 'gpu'\n",
    "\n",
    "cfg.eval_batch_size = 1\n",
    "cfg.eval_top_k = (1, 3, 5, 10)\n",
    "\n",
    "cfg.evaluate_before_training = True\n",
    "cfg.epoch_to_load = None\n",
    "\n",
    "# dataset\n",
    "cfg.data_dir = '../../input/flowersdataset' \n",
    "\n",
    "# Dataloader params\n",
    "cfg.m, cfg.l = 16, 4\n",
    " \n",
    "# checkpoint\n",
    "cfg.pretrained_dir = '../../input/sop-retrieval-checkpoints'\n",
    "cfg.checkpoints_dir =  os.path.join(ROOT_DIR, 'checkpoints')\n",
    "cfg.embeddings_path = os.path.join(ROOT_DIR, 'embeddings')\n",
    "\n",
    "cfg.run_name = None"
   ],
   "metadata": {
    "execution": {
     "iopub.status.busy": "2022-10-27T12:16:27.220196Z",
     "iopub.execute_input": "2022-10-27T12:16:27.220581Z",
     "iopub.status.idle": "2022-10-27T12:16:27.228016Z",
     "shell.execute_reply.started": "2022-10-27T12:16:27.220550Z",
     "shell.execute_reply": "2022-10-27T12:16:27.226952Z"
    },
    "trusted": true
   },
   "execution_count": null,
   "outputs": []
  },
  {
   "cell_type": "code",
   "source": [
    "# инициализация трейнера\n",
    "trainer = Trainer(cfg)"
   ],
   "metadata": {
    "execution": {
     "iopub.status.busy": "2022-10-27T12:16:28.886696Z",
     "iopub.execute_input": "2022-10-27T12:16:28.887139Z",
     "iopub.status.idle": "2022-10-27T12:16:30.691897Z",
     "shell.execute_reply.started": "2022-10-27T12:16:28.887104Z",
     "shell.execute_reply": "2022-10-27T12:16:30.690981Z"
    },
    "trusted": true
   },
   "execution_count": null,
   "outputs": []
  },
  {
   "cell_type": "code",
   "source": [
    "# запуск обучения\n",
    "trainer.fit()"
   ],
   "metadata": {
    "execution": {
     "iopub.status.busy": "2022-10-27T12:16:35.062322Z",
     "iopub.execute_input": "2022-10-27T12:16:35.062690Z",
     "iopub.status.idle": "2022-10-27T12:17:08.650388Z",
     "shell.execute_reply.started": "2022-10-27T12:16:35.062660Z",
     "shell.execute_reply": "2022-10-27T12:17:08.648833Z"
    },
    "trusted": true
   },
   "execution_count": null,
   "outputs": []
  }
 ]
}
