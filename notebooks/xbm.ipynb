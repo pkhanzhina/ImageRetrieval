{
 "metadata": {
  "kernelspec": {
   "language": "python",
   "display_name": "Python 3",
   "name": "python3"
  },
  "language_info": {
   "pygments_lexer": "ipython3",
   "nbconvert_exporter": "python",
   "version": "3.6.4",
   "file_extension": ".py",
   "codemirror_mode": {
    "name": "ipython",
    "version": 3
   },
   "name": "python",
   "mimetype": "text/x-python"
  }
 },
 "nbformat_minor": 4,
 "nbformat": 4,
 "cells": [
  {
   "cell_type": "code",
   "source": [
    "# установка дополнительных библиотек\n",
    "!pip install easydict neptune-client\n",
    "!pip install jsonschema==4.4.0\n",
    "!pip install faiss-gpu\n",
    "!pip install setuptools==40.6.2"
   ],
   "metadata": {
    "_uuid": "8f2839f25d086af736a60e9eeb907d3b93b6e0e5",
    "_cell_guid": "b1076dfc-b9ad-4769-8c92-a6c4dae69d19",
    "scrolled": true,
    "execution": {
     "iopub.status.busy": "2022-10-30T17:31:40.141794Z",
     "iopub.execute_input": "2022-10-30T17:31:40.143033Z",
     "iopub.status.idle": "2022-10-30T17:32:45.552047Z",
     "shell.execute_reply.started": "2022-10-30T17:31:40.142896Z",
     "shell.execute_reply": "2022-10-30T17:32:45.550490Z"
    },
    "trusted": true
   },
   "execution_count": null,
   "outputs": []
  },
  {
   "cell_type": "code",
   "source": [
    "!git clone -b XBM https://github.com/pkhanzhina/ImagerRetrieval.git"
   ],
   "metadata": {
    "execution": {
     "iopub.status.busy": "2022-10-30T17:32:45.556022Z",
     "iopub.execute_input": "2022-10-30T17:32:45.556772Z",
     "iopub.status.idle": "2022-10-30T17:32:50.336593Z",
     "shell.execute_reply.started": "2022-10-30T17:32:45.556730Z",
     "shell.execute_reply": "2022-10-30T17:32:50.334868Z"
    },
    "trusted": true
   },
   "execution_count": null,
   "outputs": []
  },
  {
   "cell_type": "code",
   "source": [
    "%cd \"ImagerRetrieval/research-xbm\""
   ],
   "metadata": {
    "execution": {
     "iopub.status.busy": "2022-10-30T17:32:50.339185Z",
     "iopub.execute_input": "2022-10-30T17:32:50.340578Z",
     "iopub.status.idle": "2022-10-30T17:32:50.350658Z",
     "shell.execute_reply.started": "2022-10-30T17:32:50.340530Z",
     "shell.execute_reply": "2022-10-30T17:32:50.349508Z"
    },
    "trusted": true
   },
   "execution_count": null,
   "outputs": []
  },
  {
   "cell_type": "code",
   "source": [
    "!python setup.py develop build"
   ],
   "metadata": {
    "execution": {
     "iopub.status.busy": "2022-10-30T17:32:50.353376Z",
     "iopub.execute_input": "2022-10-30T17:32:50.354367Z",
     "iopub.status.idle": "2022-10-30T17:32:56.507072Z",
     "shell.execute_reply.started": "2022-10-30T17:32:50.354326Z",
     "shell.execute_reply": "2022-10-30T17:32:56.505846Z"
    },
    "trusted": true
   },
   "execution_count": null,
   "outputs": []
  },
  {
   "cell_type": "code",
   "source": [
    "# подгрузка преобученной модели ResNet-50\n",
    "!wget -O resnet50-0676ba61.pth https://download.pytorch.org/models/resnet50-0676ba61.pth"
   ],
   "metadata": {
    "execution": {
     "iopub.status.busy": "2022-10-30T17:32:56.509215Z",
     "iopub.execute_input": "2022-10-30T17:32:56.510075Z",
     "iopub.status.idle": "2022-10-30T17:33:01.646094Z",
     "shell.execute_reply.started": "2022-10-30T17:32:56.510030Z",
     "shell.execute_reply": "2022-10-30T17:33:01.644532Z"
    },
    "trusted": true
   },
   "execution_count": null,
   "outputs": []
  },
  {
   "cell_type": "code",
   "source": [
    "# конфиг обучения\n",
    "import yaml\n",
    "\n",
    "config = {\n",
    "    'NAME': 'triplet_loss_0_4',\n",
    "    'MODEL': {\n",
    "        'BACKBONE': {'NAME': 'resnet50'},\n",
    "        'HEAD': {'DIM': 128, 'IN_CHANNELS': 2048}\n",
    "    },\n",
    "    'LOSSES': {'NAME': 'triplet_loss'},\n",
    "    'INPUT': {\n",
    "        'MODE': 'RGB',\n",
    "        'PIXEL_MEAN': [0.485, 0.456, 0.406],\n",
    "        'PIXEL_STD': [0.229, 0.224, 0.225],\n",
    "    },\n",
    "    'SOLVER': {\n",
    "        'MAX_ITERS': 10000,\n",
    "        'STEPS': 2,\n",
    "        'OPTIMIZER_NAME': 'Adam',\n",
    "        'BASE_LR': 1e-5,\n",
    "        'WEIGHT_DECAY': 0.0005,\n",
    "        'CHECKPOINT_PERIOD': 182\n",
    "    },\n",
    "    'DATA': {\n",
    "        'TRAIN_IMG_SOURCE': '../../../input/flowersdataset/annotation_train.csv',\n",
    "        'TEST_IMG_SOURCE': '../../../input/flowersdataset/annotation_test.csv',\n",
    "        'TRAIN_BATCHSIZE': 64,\n",
    "        'TEST_BATCHSIZE': 64,\n",
    "        'NUM_WORKERS': 4,\n",
    "        'NUM_INSTANCES': 4,\n",
    "    },\n",
    "    'VALIDATION': {'VERBOSE': 182},\n",
    "    'XBM': {\n",
    "        'ENABLE': True,\n",
    "        'WEIGHT': 0.5,\n",
    "        'SIZE': 15000,\n",
    "        'START_ITERATION': 182,\n",
    "    },\n",
    "    'run_id': None,\n",
    "}\n",
    "\n",
    "with open('sample_config.yaml', 'w') as outfile:\n",
    "    yaml.dump(config, outfile, default_flow_style=False)"
   ],
   "metadata": {
    "execution": {
     "iopub.status.busy": "2022-10-30T17:37:17.309483Z",
     "iopub.execute_input": "2022-10-30T17:37:17.309917Z",
     "iopub.status.idle": "2022-10-30T17:37:17.324820Z",
     "shell.execute_reply.started": "2022-10-30T17:37:17.309878Z",
     "shell.execute_reply": "2022-10-30T17:37:17.323669Z"
    },
    "trusted": true
   },
   "execution_count": null,
   "outputs": []
  },
  {
   "cell_type": "code",
   "source": [
    "# запуск обучения\n",
    "!python tools/train_net.py --cfg sample_config.yaml"
   ],
   "metadata": {
    "scrolled": true,
    "execution": {
     "iopub.status.busy": "2022-10-30T17:37:19.873352Z",
     "iopub.execute_input": "2022-10-30T17:37:19.873731Z",
     "iopub.status.idle": "2022-10-30T17:47:16.755046Z",
     "shell.execute_reply.started": "2022-10-30T17:37:19.873697Z",
     "shell.execute_reply": "2022-10-30T17:47:16.753407Z"
    },
    "trusted": true
   },
   "execution_count": null,
   "outputs": []
  }
 ]
}
